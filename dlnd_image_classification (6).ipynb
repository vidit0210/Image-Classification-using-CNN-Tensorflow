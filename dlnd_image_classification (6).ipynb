{
 "cells": [
  {
   "cell_type": "markdown",
   "metadata": {
    "collapsed": true,
    "deletable": true,
    "editable": true
   },
   "source": [
    "# Image Classification\n",
    "In this project, you'll classify images from the [CIFAR-10 dataset](https://www.cs.toronto.edu/~kriz/cifar.html).  The dataset consists of airplanes, dogs, cats, and other objects. You'll preprocess the images, then train a convolutional neural network on all the samples. The images need to be normalized and the labels need to be one-hot encoded.  You'll get to apply what you learned and build a convolutional, max pooling, dropout, and fully connected layers.  At the end, you'll get to see your neural network's predictions on the sample images.\n",
    "## Get the Data\n",
    "Run the following cell to download the [CIFAR-10 dataset for python](https://www.cs.toronto.edu/~kriz/cifar-10-python.tar.gz)."
   ]
  },
  {
   "cell_type": "code",
   "execution_count": 62,
   "metadata": {
    "collapsed": false,
    "deletable": true,
    "editable": true
   },
   "outputs": [
    {
     "name": "stdout",
     "output_type": "stream",
     "text": [
      "All files found!\n"
     ]
    }
   ],
   "source": [
    "\"\"\"\n",
    "DON'T MODIFY ANYTHING IN THIS CELL THAT IS BELOW THIS LINE\n",
    "\"\"\"\n",
    "from urllib.request import urlretrieve\n",
    "from os.path import isfile, isdir\n",
    "from tqdm import tqdm\n",
    "import problem_unittests as tests\n",
    "import tarfile\n",
    "\n",
    "cifar10_dataset_folder_path = 'cifar-10-batches-py'\n",
    "\n",
    "class DLProgress(tqdm):\n",
    "    last_block = 0\n",
    "\n",
    "    def hook(self, block_num=1, block_size=1, total_size=None):\n",
    "        self.total = total_size\n",
    "        self.update((block_num - self.last_block) * block_size)\n",
    "        self.last_block = block_num\n",
    "\n",
    "if not isfile('cifar-10-python.tar.gz'):\n",
    "    with DLProgress(unit='B', unit_scale=True, miniters=1, desc='CIFAR-10 Dataset') as pbar:\n",
    "        urlretrieve(\n",
    "            'https://www.cs.toronto.edu/~kriz/cifar-10-python.tar.gz',\n",
    "            'cifar-10-python.tar.gz',\n",
    "            pbar.hook)\n",
    "\n",
    "if not isdir(cifar10_dataset_folder_path):\n",
    "    with tarfile.open('cifar-10-python.tar.gz') as tar:\n",
    "        tar.extractall()\n",
    "        tar.close()\n",
    "\n",
    "\n",
    "tests.test_folder_path(cifar10_dataset_folder_path)"
   ]
  },
  {
   "cell_type": "markdown",
   "metadata": {
    "deletable": true,
    "editable": true
   },
   "source": [
    "## Explore the Data\n",
    "The dataset is broken into batches to prevent your machine from running out of memory.  The CIFAR-10 dataset consists of 5 batches, named `data_batch_1`, `data_batch_2`, etc.. Each batch contains the labels and images that are one of the following:\n",
    "* airplane\n",
    "* automobile\n",
    "* bird\n",
    "* cat\n",
    "* deer\n",
    "* dog\n",
    "* frog\n",
    "* horse\n",
    "* ship\n",
    "* truck\n",
    "\n",
    "Understanding a dataset is part of making predictions on the data.  Play around with the code cell below by changing the `batch_id` and `sample_id`. The `batch_id` is the id for a batch (1-5). The `sample_id` is the id for a image and label pair in the batch.\n",
    "\n",
    "Ask yourself \"What are all possible labels?\", \"What is the range of values for the image data?\", \"Are the labels in order or random?\".  Answers to questions like these will help you preprocess the data and end up with better predictions."
   ]
  },
  {
   "cell_type": "code",
   "execution_count": 63,
   "metadata": {
    "collapsed": false,
    "deletable": true,
    "editable": true
   },
   "outputs": [
    {
     "name": "stdout",
     "output_type": "stream",
     "text": [
      "\n",
      "Stats of batch 1:\n",
      "Samples: 10000\n",
      "Label Counts: {0: 1005, 1: 974, 2: 1032, 3: 1016, 4: 999, 5: 937, 6: 1030, 7: 1001, 8: 1025, 9: 981}\n",
      "First 20 Labels: [6, 9, 9, 4, 1, 1, 2, 7, 8, 3, 4, 7, 7, 2, 9, 9, 9, 3, 2, 6]\n",
      "\n",
      "Example of Image 5:\n",
      "Image - Min Value: 0 Max Value: 252\n",
      "Image - Shape: (32, 32, 3)\n",
      "Label - Label Id: 1 Name: automobile\n"
     ]
    },
    {
     "data": {
      "image/png": "[encoded data removed]",
      "text/plain": [
       "<matplotlib.figure.Figure at 0x7fc6df6c22b0>"
      ]
     },
     "metadata": {
      "image/png": {
       "height": 250,
       "width": 253
      }
     },
     "output_type": "display_data"
    }
   ],
   "source": [
    "%matplotlib inline\n",
    "%config InlineBackend.figure_format = 'retina'\n",
    "\n",
    "import helper\n",
    "import numpy as np\n",
    "\n",
    "# Explore the dataset\n",
    "batch_id = 1\n",
    "sample_id = 5\n",
    "helper.display_stats(cifar10_dataset_folder_path, batch_id, sample_id)"
   ]
  },
  {
   "cell_type": "markdown",
   "metadata": {
    "deletable": true,
    "editable": true
   },
   "source": [
    "## Implement Preprocess Functions\n",
    "### Normalize\n",
    "In the cell below, implement the `normalize` function to take in image data, `x`, and return it as a normalized Numpy array. The values should be in the range of 0 to 1, inclusive.  The return object should be the same shape as `x`."
   ]
  },
  {
   "cell_type": "code",
   "execution_count": 64,
   "metadata": {
    "collapsed": false,
    "deletable": true,
    "editable": true
   },
   "outputs": [
    {
     "name": "stdout",
     "output_type": "stream",
     "text": [
      "Tests Passed\n"
     ]
    }
   ],
   "source": [
    "def normalize(x):\n",
    "    x_min = np.min(x)\n",
    "    x_max = np.max(x)\n",
    "    return (x - x_min) / (x_max - x_min)\n",
    "\n",
    "\n",
    "\"\"\"\n",
    "DON'T MODIFY ANYTHING IN THIS CELL THAT IS BELOW THIS LINE\n",
    "\"\"\"\n",
    "tests.test_normalize(normalize)"
   ]
  },
  {
   "cell_type": "markdown",
   "metadata": {
    "deletable": true,
    "editable": true
   },
   "source": [
    "### One-hot encode\n",
    "Just like the previous code cell, you'll be implementing a function for preprocessing.  This time, you'll implement the `one_hot_encode` function. The input, `x`, are a list of labels.  Implement the function to return the list of labels as One-Hot encoded Numpy array.  The possible values for labels are 0 to 9. The one-hot encoding function should return the same encoding for each value between each call to `one_hot_encode`.  Make sure to save the map of encodings outside the function.\n",
    "\n",
    "Hint: Don't reinvent the wheel."
   ]
  },
  {
   "cell_type": "code",
   "execution_count": 65,
   "metadata": {
    "collapsed": false,
    "deletable": true,
    "editable": true
   },
   "outputs": [
    {
     "name": "stdout",
     "output_type": "stream",
     "text": [
      "Tests Passed\n"
     ]
    }
   ],
   "source": [
    "from sklearn import preprocessing\n",
    "\n",
    "labels = ['airplane', 'automobile', 'bird', 'cat', 'deer', 'dog', 'frog', 'horse', 'ship', 'truck']\n",
    "\n",
    "label_encoder = preprocessing.LabelEncoder()\n",
    "label_binarizer = preprocessing.LabelBinarizer()\n",
    "\n",
    "encoded_labels = label_encoder.fit_transform(labels)\n",
    "label_binarizer.fit(encoded_labels)\n",
    "\n",
    "def one_hot_encode(x):\n",
    "    return label_binarizer.transform(x)\n",
    "\n",
    "\n",
    "\n",
    "\"\"\"\n",
    "DON'T MODIFY ANYTHING IN THIS CELL THAT IS BELOW THIS LINE\n",
    "\"\"\"\n",
    "tests.test_one_hot_encode(one_hot_encode)"
   ]
  },
  {
   "cell_type": "markdown",
   "metadata": {
    "deletable": true,
    "editable": true
   },
   "source": [
    "### Randomize Data\n",
    "As you saw from exploring the data above, the order of the samples are randomized.  It doesn't hurt to randomize it again, but you don't need to for this dataset."
   ]
  },
  {
   "cell_type": "markdown",
   "metadata": {
    "deletable": true,
    "editable": true
   },
   "source": [
    "## Preprocess all the data and save it\n",
    "Running the code cell below will preprocess all the CIFAR-10 data and save it to file. The code below also uses 10% of the training data for validation."
   ]
  },
  {
   "cell_type": "code",
   "execution_count": 66,
   "metadata": {
    "collapsed": false,
    "deletable": true,
    "editable": true
   },
   "outputs": [],
   "source": [
    "\"\"\"\n",
    "DON'T MODIFY ANYTHING IN THIS CELL\n",
    "\"\"\"\n",
    "# Preprocess Training, Validation, and Testing Data\n",
    "helper.preprocess_and_save_data(cifar10_dataset_folder_path, normalize, one_hot_encode)"
   ]
  },
  {
   "cell_type": "markdown",
   "metadata": {
    "deletable": true,
    "editable": true
   },
   "source": [
    "# Check Point\n",
    "This is your first checkpoint.  If you ever decide to come back to this notebook or have to restart the notebook, you can start from here.  The preprocessed data has been saved to disk."
   ]
  },
  {
   "cell_type": "code",
   "execution_count": 67,
   "metadata": {
    "collapsed": true,
    "deletable": true,
    "editable": true
   },
   "outputs": [],
   "source": [
    "\"\"\"\n",
    "DON'T MODIFY ANYTHING IN THIS CELL\n",
    "\"\"\"\n",
    "import pickle\n",
    "import problem_unittests as tests\n",
    "import helper\n",
    "\n",
    "# Load the Preprocessed Validation data\n",
    "valid_features, valid_labels = pickle.load(open('preprocess_validation.p', mode='rb'))"
   ]
  },
  {
   "cell_type": "markdown",
   "metadata": {
    "deletable": true,
    "editable": true
   },
   "source": [
    "## Build the network\n",
    "For the neural network, you'll build each layer into a function.  Most of the code you've seen has been outside of functions. To test your code more thoroughly, we require that you put each layer in a function.  This allows us to give you better feedback and test for simple mistakes using our unittests before you submit your project.\n",
    "\n",
    ">**Note:** If you're finding it hard to dedicate enough time for this course each week, we've provided a small shortcut to this part of the project. In the next couple of problems, you'll have the option to use classes from the [TensorFlow Layers](https://www.tensorflow.org/api_docs/python/tf/layers) or [TensorFlow Layers (contrib)](https://www.tensorflow.org/api_guides/python/contrib.layers) packages to build each layer, except the layers you build in the \"Convolutional and Max Pooling Layer\" section.  TF Layers is similar to Keras's and TFLearn's abstraction to layers, so it's easy to pickup.\n",
    "\n",
    ">However, if you would like to get the most out of this course, try to solve all the problems _without_ using anything from the TF Layers packages. You **can** still use classes from other packages that happen to have the same name as ones you find in TF Layers! For example, instead of using the TF Layers version of the `conv2d` class, [tf.layers.conv2d](https://www.tensorflow.org/api_docs/python/tf/layers/conv2d), you would want to use the TF Neural Network version of `conv2d`, [tf.nn.conv2d](https://www.tensorflow.org/api_docs/python/tf/nn/conv2d). \n",
    "\n",
    "Let's begin!\n",
    "\n",
    "### Input\n",
    "The neural network needs to read the image data, one-hot encoded labels, and dropout keep probability. Implement the following functions\n",
    "* Implement `neural_net_image_input`\n",
    " * Return a [TF Placeholder](https://www.tensorflow.org/api_docs/python/tf/placeholder)\n",
    " * Set the shape using `image_shape` with batch size set to `None`.\n",
    " * Name the TensorFlow placeholder \"x\" using the TensorFlow `name` parameter in the [TF Placeholder](https://www.tensorflow.org/api_docs/python/tf/placeholder).\n",
    "* Implement `neural_net_label_input`\n",
    " * Return a [TF Placeholder](https://www.tensorflow.org/api_docs/python/tf/placeholder)\n",
    " * Set the shape using `n_classes` with batch size set to `None`.\n",
    " * Name the TensorFlow placeholder \"y\" using the TensorFlow `name` parameter in the [TF Placeholder](https://www.tensorflow.org/api_docs/python/tf/placeholder).\n",
    "* Implement `neural_net_keep_prob_input`\n",
    " * Return a [TF Placeholder](https://www.tensorflow.org/api_docs/python/tf/placeholder) for dropout keep probability.\n",
    " * Name the TensorFlow placeholder \"keep_prob\" using the TensorFlow `name` parameter in the [TF Placeholder](https://www.tensorflow.org/api_docs/python/tf/placeholder).\n",
    "\n",
    "These names will be used at the end of the project to load your saved model.\n",
    "\n",
    "Note: `None` for shapes in TensorFlow allow for a dynamic size."
   ]
  },
  {
   "cell_type": "code",
   "execution_count": 68,
   "metadata": {
    "collapsed": false,
    "deletable": true,
    "editable": true
   },
   "outputs": [
    {
     "name": "stdout",
     "output_type": "stream",
     "text": [
      "Image Input Tests Passed.\n",
      "Label Input Tests Passed.\n",
      "Keep Prob Tests Passed.\n"
     ]
    }
   ],
   "source": [
    "import tensorflow as tf\n",
    "\n",
    "def neural_net_image_input(image_shape):\n",
    "    return tf.placeholder(tf.float32, np.append(None, image_shape), 'x')\n",
    "\n",
    "def neural_net_label_input(n_classes):\n",
    "    return tf.placeholder(tf.float32, [None, n_classes], 'y')\n",
    "\n",
    "def neural_net_keep_prob_input():\n",
    "    return tf.placeholder(tf.float32, name='keep_prob')\n",
    "\n",
    "\n",
    "\"\"\"\n",
    "DON'T MODIFY ANYTHING IN THIS CELL THAT IS BELOW THIS LINE\n",
    "\"\"\"\n",
    "tf.reset_default_graph()\n",
    "tests.test_nn_image_inputs(neural_net_image_input)\n",
    "tests.test_nn_label_inputs(neural_net_label_input)\n",
    "tests.test_nn_keep_prob_inputs(neural_net_keep_prob_input)"
   ]
  },
  {
   "cell_type": "markdown",
   "metadata": {
    "deletable": true,
    "editable": true
   },
   "source": [
    "### Convolution and Max Pooling Layer\n",
    "Convolution layers have a lot of success with images. For this code cell, you should implement the function `conv2d_maxpool` to apply convolution then max pooling:\n",
    "* Create the weight and bias using `conv_ksize`, `conv_num_outputs` and the shape of `x_tensor`.\n",
    "* Apply a convolution to `x_tensor` using weight and `conv_strides`.\n",
    " * We recommend you use same padding, but you're welcome to use any padding.\n",
    "* Add bias\n",
    "* Add a nonlinear activation to the convolution.\n",
    "* Apply Max Pooling using `pool_ksize` and `pool_strides`.\n",
    " * We recommend you use same padding, but you're welcome to use any padding.\n",
    "\n",
    "**Note:** You **can't** use [TensorFlow Layers](https://www.tensorflow.org/api_docs/python/tf/layers) or [TensorFlow Layers (contrib)](https://www.tensorflow.org/api_guides/python/contrib.layers) for **this** layer, but you can still use TensorFlow's [Neural Network](https://www.tensorflow.org/api_docs/python/tf/nn) package. You may still use the shortcut option for all the **other** layers."
   ]
  },
  {
   "cell_type": "code",
   "execution_count": 69,
   "metadata": {
    "collapsed": false,
    "deletable": true,
    "editable": true
   },
   "outputs": [
    {
     "name": "stdout",
     "output_type": "stream",
     "text": [
      "Tests Passed\n"
     ]
    }
   ],
   "source": [
    "def conv2d_maxpool(x_tensor, conv_num_outputs, conv_ksize, conv_strides, pool_ksize, pool_strides):\n",
    "    weight = tf.Variable(tf.truncated_normal(\n",
    "        (conv_ksize[0], conv_ksize[1], x_tensor.shape.as_list()[3], conv_num_outputs),\n",
    "        mean=0.0,\n",
    "        stddev=0.01,\n",
    "        dtype=tf.float32,\n",
    "        seed=None,\n",
    "        name=None))\n",
    "    bias = tf.Variable(tf.zeros(conv_num_outputs))\n",
    "    x = tf.nn.conv2d(x_tensor, weight, strides=[1, *conv_strides, 1], padding='SAME')\n",
    "    x = tf.nn.bias_add(x, bias)\n",
    "    x = tf.nn.relu(x)\n",
    "    return tf.nn.max_pool(\n",
    "        x,\n",
    "        ksize=[1, *pool_ksize, 1],\n",
    "        strides=[1, *pool_strides, 1],\n",
    "        padding='SAME')\n",
    "\n",
    "\n",
    "\n",
    "\"\"\"\n",
    "DON'T MODIFY ANYTHING IN THIS CELL THAT IS BELOW THIS LINE\n",
    "\"\"\"\n",
    "tests.test_con_pool(conv2d_maxpool)"
   ]
  },
  {
   "cell_type": "markdown",
   "metadata": {
    "deletable": true,
    "editable": true
   },
   "source": [
    "### Flatten Layer\n",
    "Implement the `flatten` function to change the dimension of `x_tensor` from a 4-D tensor to a 2-D tensor.  The output should be the shape (*Batch Size*, *Flattened Image Size*). Shortcut option: you can use classes from the [TensorFlow Layers](https://www.tensorflow.org/api_docs/python/tf/layers) or [TensorFlow Layers (contrib)](https://www.tensorflow.org/api_guides/python/contrib.layers) packages for this layer. For more of a challenge, only use other TensorFlow packages."
   ]
  },
  {
   "cell_type": "code",
   "execution_count": 70,
   "metadata": {
    "collapsed": false,
    "deletable": true,
    "editable": true
   },
   "outputs": [
    {
     "name": "stdout",
     "output_type": "stream",
     "text": [
      "Tests Passed\n"
     ]
    }
   ],
   "source": [
    "def flatten(x_tensor):\n",
    "    return tf.contrib.layers.flatten(x_tensor)\n",
    "\n",
    "\n",
    "\"\"\"\n",
    "DON'T MODIFY ANYTHING IN THIS CELL THAT IS BELOW THIS LINE\n",
    "\"\"\"\n",
    "tests.test_flatten(flatten)"
   ]
  },
  {
   "cell_type": "markdown",
   "metadata": {
    "deletable": true,
    "editable": true
   },
   "source": [
    "### Fully-Connected Layer\n",
    "Implement the `fully_conn` function to apply a fully connected layer to `x_tensor` with the shape (*Batch Size*, *num_outputs*). Shortcut option: you can use classes from the [TensorFlow Layers](https://www.tensorflow.org/api_docs/python/tf/layers) or [TensorFlow Layers (contrib)](https://www.tensorflow.org/api_guides/python/contrib.layers) packages for this layer. For more of a challenge, only use other TensorFlow packages."
   ]
  },
  {
   "cell_type": "code",
   "execution_count": 71,
   "metadata": {
    "collapsed": false,
    "deletable": true,
    "editable": true
   },
   "outputs": [
    {
     "name": "stdout",
     "output_type": "stream",
     "text": [
      "Tests Passed\n"
     ]
    }
   ],
   "source": [
    "def fully_conn(x_tensor, num_outputs):\n",
    "    return tf.contrib.layers.fully_connected(x_tensor, num_outputs, activation_fn=tf.nn.relu)\n",
    "\n",
    "\n",
    "\n",
    "\"\"\"\n",
    "DON'T MODIFY ANYTHING IN THIS CELL THAT IS BELOW THIS LINE\n",
    "\"\"\"\n",
    "tests.test_fully_conn(fully_conn)\n"
   ]
  },
  {
   "cell_type": "markdown",
   "metadata": {
    "deletable": true,
    "editable": true
   },
   "source": [
    "### Output Layer\n",
    "Implement the `output` function to apply a fully connected layer to `x_tensor` with the shape (*Batch Size*, *num_outputs*). Shortcut option: you can use classes from the [TensorFlow Layers](https://www.tensorflow.org/api_docs/python/tf/layers) or [TensorFlow Layers (contrib)](https://www.tensorflow.org/api_guides/python/contrib.layers) packages for this layer. For more of a challenge, only use other TensorFlow packages.\n",
    "\n",
    "**Note:** Activation, softmax, or cross entropy should **not** be applied to this."
   ]
  },
  {
   "cell_type": "code",
   "execution_count": 72,
   "metadata": {
    "collapsed": false,
    "deletable": true,
    "editable": true
   },
   "outputs": [
    {
     "name": "stdout",
     "output_type": "stream",
     "text": [
      "Tests Passed\n"
     ]
    }
   ],
   "source": [
    "def output(x_tensor, num_outputs):\n",
    "\n",
    "    return tf.contrib.layers.fully_connected(x_tensor, num_outputs, activation_fn=None)\n",
    "\n",
    "\n",
    "\n",
    "\"\"\"\n",
    "DON'T MODIFY ANYTHING IN THIS CELL THAT IS BELOW THIS LINE\n",
    "\"\"\"\n",
    "tests.test_output(output)\n"
   ]
  },
  {
   "cell_type": "markdown",
   "metadata": {
    "deletable": true,
    "editable": true
   },
   "source": [
    "### Create Convolutional Model\n",
    "Implement the function `conv_net` to create a convolutional neural network model. The function takes in a batch of images, `x`, and outputs logits.  Use the layers you created above to create this model:\n",
    "\n",
    "* Apply 1, 2, or 3 Convolution and Max Pool layers\n",
    "* Apply a Flatten Layer\n",
    "* Apply 1, 2, or 3 Fully Connected Layers\n",
    "* Apply an Output Layer\n",
    "* Return the output\n",
    "* Apply [TensorFlow's Dropout](https://www.tensorflow.org/api_docs/python/tf/nn/dropout) to one or more layers in the model using `keep_prob`. "
   ]
  },
  {
   "cell_type": "code",
   "execution_count": 73,
   "metadata": {
    "collapsed": false,
    "deletable": true,
    "editable": true
   },
   "outputs": [
    {
     "name": "stdout",
     "output_type": "stream",
     "text": [
      "Neural Network Built!\n"
     ]
    }
   ],
   "source": [
    "def conv_net(x, keep_prob):\n",
    "    # Layer 1\n",
    "    conv1 = conv2d_maxpool(x, 8 * 3, (3, 3), (1, 1), (2, 2), (2, 2))\n",
    "    \n",
    "    # Layer 2\n",
    "    conv2 = conv2d_maxpool(conv1, 16 * 3, (3, 3), (1, 1), (2, 2), (2, 2))\n",
    "    \n",
    "    # Layer 3\n",
    "    conv3 = conv2d_maxpool(conv2, 32 * 3, (3, 3), (1, 1), (2, 2), (2, 2))\n",
    "    \n",
    "    # Flatten layer\n",
    "    flatten1 = flatten(conv3)\n",
    "\n",
    "    # Fully connected layer\n",
    "    fc1 = fully_conn(flatten1, 512)\n",
    "    fc1 = tf.nn.dropout(fc1, keep_prob)\n",
    "    fc2 = fully_conn(fc1, 512)\n",
    "    fc2 = tf.nn.dropout(fc2, keep_prob)\n",
    "    \n",
    "    out = output(fc2, 10)\n",
    "    return out\n",
    "\n",
    "\n",
    "\"\"\"\n",
    "DON'T MODIFY ANYTHING IN THIS CELL THAT IS BELOW THIS LINE\n",
    "\"\"\"\n",
    "\n",
    "##############################\n",
    "## Build the Neural Network ##\n",
    "##############################\n",
    "\n",
    "# Remove previous weights, bias, inputs, etc..\n",
    "tf.reset_default_graph()\n",
    "\n",
    "# Inputs\n",
    "x = neural_net_image_input((32, 32, 3))\n",
    "y = neural_net_label_input(10)\n",
    "keep_prob = neural_net_keep_prob_input()\n",
    "\n",
    "# Model\n",
    "logits = conv_net(x, keep_prob)\n",
    "\n",
    "# Name logits Tensor, so that is can be loaded from disk after training\n",
    "logits = tf.identity(logits, name='logits')\n",
    "\n",
    "# Loss and Optimizer\n",
    "cost = tf.reduce_mean(tf.nn.softmax_cross_entropy_with_logits(logits=logits, labels=y))\n",
    "optimizer = tf.train.AdamOptimizer().minimize(cost)\n",
    "\n",
    "# Accuracy\n",
    "correct_pred = tf.equal(tf.argmax(logits, 1), tf.argmax(y, 1))\n",
    "accuracy = tf.reduce_mean(tf.cast(correct_pred, tf.float32), name='accuracy')\n",
    "\n",
    "tests.test_conv_net(conv_net)"
   ]
  },
  {
   "cell_type": "markdown",
   "metadata": {
    "deletable": true,
    "editable": true
   },
   "source": [
    "## Train the Neural Network\n",
    "### Single Optimization\n",
    "Implement the function `train_neural_network` to do a single optimization.  The optimization should use `optimizer` to optimize in `session` with a `feed_dict` of the following:\n",
    "* `x` for image input\n",
    "* `y` for labels\n",
    "* `keep_prob` for keep probability for dropout\n",
    "\n",
    "This function will be called for each batch, so `tf.global_variables_initializer()` has already been called.\n",
    "\n",
    "Note: Nothing needs to be returned. This function is only optimizing the neural network."
   ]
  },
  {
   "cell_type": "code",
   "execution_count": 74,
   "metadata": {
    "collapsed": false,
    "deletable": true,
    "editable": true
   },
   "outputs": [
    {
     "name": "stdout",
     "output_type": "stream",
     "text": [
      "Tests Passed\n"
     ]
    }
   ],
   "source": [
    "def train_neural_network(session, optimizer, keep_probability, feature_batch, label_batch):\n",
    "    session.run(optimizer, feed_dict={x: feature_batch, y: label_batch, keep_prob: keep_probability})\n",
    "\"\"\"\n",
    "DON'T MODIFY ANYTHING IN THIS CELL THAT IS BELOW THIS LINE\n",
    "\"\"\"\n",
    "tests.test_train_nn(train_neural_network)"
   ]
  },
  {
   "cell_type": "markdown",
   "metadata": {
    "deletable": true,
    "editable": true
   },
   "source": [
    "### Show Stats\n",
    "Implement the function `print_stats` to print loss and validation accuracy.  Use the global variables `valid_features` and `valid_labels` to calculate validation accuracy.  Use a keep probability of `1.0` to calculate the loss and validation accuracy."
   ]
  },
  {
   "cell_type": "code",
   "execution_count": 75,
   "metadata": {
    "collapsed": false,
    "deletable": true,
    "editable": true
   },
   "outputs": [],
   "source": [
    "test_valid_size = 512\n",
    "def print_stats(session, feature_batch, label_batch, cost, accuracy):\n",
    "    loss = session.run(cost, feed_dict={x: feature_batch, y: label_batch, keep_prob: 1.})\n",
    "    valid_acc = session.run(accuracy, feed_dict={\n",
    "        x: valid_features[:test_valid_size],\n",
    "        y: valid_labels[:test_valid_size],\n",
    "        keep_prob: 1.})\n",
    "\n",
    "    print('Loss: {:>10.4f} Validation Accuracy: {:.6f}'.format(loss, valid_acc))\n",
    "    "
   ]
  },
  {
   "cell_type": "markdown",
   "metadata": {
    "deletable": true,
    "editable": true
   },
   "source": [
    "### Hyperparameters\n",
    "Tune the following parameters:\n",
    "* Set `epochs` to the number of iterations until the network stops learning or start overfitting\n",
    "* Set `batch_size` to the highest number that your machine has memory for.  Most people set them to common sizes of memory:\n",
    " * 64\n",
    " * 128\n",
    " * 256\n",
    " * ...\n",
    "* Set `keep_probability` to the probability of keeping a node using dropout"
   ]
  },
  {
   "cell_type": "code",
   "execution_count": 58,
   "metadata": {
    "collapsed": true,
    "deletable": true,
    "editable": true
   },
   "outputs": [],
   "source": [
    "# TODO: Tune Parameters\n",
    "epochs = 30\n",
    "batch_size = 128\n",
    "keep_probability = 0.45"
   ]
  },
  {
   "cell_type": "markdown",
   "metadata": {
    "deletable": true,
    "editable": true
   },
   "source": [
    "### Train on a Single CIFAR-10 Batch\n",
    "Instead of training the neural network on all the CIFAR-10 batches of data, let's use a single batch. This should save time while you iterate on the model to get a better accuracy.  Once the final validation accuracy is 50% or greater, run the model on all the data in the next section."
   ]
  },
  {
   "cell_type": "code",
   "execution_count": 59,
   "metadata": {
    "collapsed": false,
    "deletable": true,
    "editable": true
   },
   "outputs": [
    {
     "name": "stdout",
     "output_type": "stream",
     "text": [
      "Checking the Training on a Single Batch...\n",
      "Epoch  1, CIFAR-10 Batch 1:  Loss:     2.1974 Validation Accuracy: 0.220703\n",
      "Epoch  2, CIFAR-10 Batch 1:  Loss:     2.1268 Validation Accuracy: 0.283203\n",
      "Epoch  3, CIFAR-10 Batch 1:  Loss:     2.1014 Validation Accuracy: 0.283203\n",
      "Epoch  4, CIFAR-10 Batch 1:  Loss:     2.0385 Validation Accuracy: 0.314453\n",
      "Epoch  5, CIFAR-10 Batch 1:  Loss:     1.9674 Validation Accuracy: 0.326172\n",
      "Epoch  6, CIFAR-10 Batch 1:  Loss:     1.9545 Validation Accuracy: 0.328125\n",
      "Epoch  7, CIFAR-10 Batch 1:  Loss:     1.8895 Validation Accuracy: 0.367188\n",
      "Epoch  8, CIFAR-10 Batch 1:  Loss:     1.7818 Validation Accuracy: 0.386719\n",
      "Epoch  9, CIFAR-10 Batch 1:  Loss:     1.7315 Validation Accuracy: 0.394531\n",
      "Epoch 10, CIFAR-10 Batch 1:  Loss:     1.6799 Validation Accuracy: 0.404297\n",
      "Epoch 11, CIFAR-10 Batch 1:  Loss:     1.6294 Validation Accuracy: 0.423828\n",
      "Epoch 12, CIFAR-10 Batch 1:  Loss:     1.5897 Validation Accuracy: 0.431641\n",
      "Epoch 13, CIFAR-10 Batch 1:  Loss:     1.5410 Validation Accuracy: 0.433594\n",
      "Epoch 14, CIFAR-10 Batch 1:  Loss:     1.5083 Validation Accuracy: 0.453125\n",
      "Epoch 15, CIFAR-10 Batch 1:  Loss:     1.4384 Validation Accuracy: 0.466797\n",
      "Epoch 16, CIFAR-10 Batch 1:  Loss:     1.3149 Validation Accuracy: 0.496094\n",
      "Epoch 17, CIFAR-10 Batch 1:  Loss:     1.2040 Validation Accuracy: 0.486328\n",
      "Epoch 18, CIFAR-10 Batch 1:  Loss:     1.1337 Validation Accuracy: 0.494141\n",
      "Epoch 19, CIFAR-10 Batch 1:  Loss:     1.0406 Validation Accuracy: 0.513672\n",
      "Epoch 20, CIFAR-10 Batch 1:  Loss:     1.0084 Validation Accuracy: 0.513672\n",
      "Epoch 21, CIFAR-10 Batch 1:  Loss:     1.0096 Validation Accuracy: 0.521484\n",
      "Epoch 22, CIFAR-10 Batch 1:  Loss:     0.8723 Validation Accuracy: 0.525391\n",
      "Epoch 23, CIFAR-10 Batch 1:  Loss:     0.8385 Validation Accuracy: 0.542969\n",
      "Epoch 24, CIFAR-10 Batch 1:  Loss:     0.8061 Validation Accuracy: 0.511719\n",
      "Epoch 25, CIFAR-10 Batch 1:  Loss:     0.7567 Validation Accuracy: 0.521484\n",
      "Epoch 26, CIFAR-10 Batch 1:  Loss:     0.6909 Validation Accuracy: 0.539062\n",
      "Epoch 27, CIFAR-10 Batch 1:  Loss:     0.6026 Validation Accuracy: 0.529297\n",
      "Epoch 28, CIFAR-10 Batch 1:  Loss:     0.6075 Validation Accuracy: 0.546875\n",
      "Epoch 29, CIFAR-10 Batch 1:  Loss:     0.5800 Validation Accuracy: 0.558594\n",
      "Epoch 30, CIFAR-10 Batch 1:  Loss:     0.5259 Validation Accuracy: 0.535156\n"
     ]
    }
   ],
   "source": [
    "\"\"\"\n",
    "DON'T MODIFY ANYTHING IN THIS CELL\n",
    "\"\"\"\n",
    "print('Checking the Training on a Single Batch...')\n",
    "with tf.Session() as sess:\n",
    "    # Initializing the variables\n",
    "    sess.run(tf.global_variables_initializer())\n",
    "    \n",
    "    # Training cycle\n",
    "    for epoch in range(epochs):\n",
    "        batch_i = 1\n",
    "        for batch_features, batch_labels in helper.load_preprocess_training_batch(batch_i, batch_size):\n",
    "            train_neural_network(sess, optimizer, keep_probability, batch_features, batch_labels)\n",
    "        print('Epoch {:>2}, CIFAR-10 Batch {}:  '.format(epoch + 1, batch_i), end='')\n",
    "        print_stats(sess, batch_features, batch_labels, cost, accuracy)"
   ]
  },
  {
   "cell_type": "markdown",
   "metadata": {
    "deletable": true,
    "editable": true
   },
   "source": [
    "### Fully Train the Model\n",
    "Now that you got a good accuracy with a single CIFAR-10 batch, try it with all five batches."
   ]
  },
  {
   "cell_type": "markdown",
   "metadata": {
    "deletable": true,
    "editable": true
   },
   "source": [
    "# Checkpoint\n",
    "The model has been saved to disk.\n",
    "## Test Model\n",
    "Test your model against the test dataset.  This will be your final accuracy. You should have an accuracy greater than 50%. If you don't, keep tweaking the model architecture and parameters."
   ]
  },
  {
   "cell_type": "code",
   "execution_count": 60,
   "metadata": {
    "collapsed": false,
    "deletable": true,
    "editable": true
   },
   "outputs": [
    {
     "name": "stdout",
     "output_type": "stream",
     "text": [
      "Training...\n",
      "Epoch  1, CIFAR-10 Batch 1:  Loss:     2.2712 Validation Accuracy: 0.205078\n",
      "Epoch  1, CIFAR-10 Batch 2:  Loss:     2.1427 Validation Accuracy: 0.250000\n",
      "Epoch  1, CIFAR-10 Batch 3:  Loss:     1.8136 Validation Accuracy: 0.240234\n",
      "Epoch  1, CIFAR-10 Batch 4:  Loss:     1.8521 Validation Accuracy: 0.269531\n",
      "Epoch  1, CIFAR-10 Batch 5:  Loss:     1.9845 Validation Accuracy: 0.339844\n",
      "Epoch  2, CIFAR-10 Batch 1:  Loss:     1.9496 Validation Accuracy: 0.382812\n",
      "Epoch  2, CIFAR-10 Batch 2:  Loss:     1.7480 Validation Accuracy: 0.386719\n",
      "Epoch  2, CIFAR-10 Batch 3:  Loss:     1.3281 Validation Accuracy: 0.410156\n",
      "Epoch  2, CIFAR-10 Batch 4:  Loss:     1.5551 Validation Accuracy: 0.408203\n",
      "Epoch  2, CIFAR-10 Batch 5:  Loss:     1.7264 Validation Accuracy: 0.447266\n",
      "Epoch  3, CIFAR-10 Batch 1:  Loss:     1.7018 Validation Accuracy: 0.457031\n",
      "Epoch  3, CIFAR-10 Batch 2:  Loss:     1.5746 Validation Accuracy: 0.455078\n",
      "Epoch  3, CIFAR-10 Batch 3:  Loss:     1.1594 Validation Accuracy: 0.464844\n",
      "Epoch  3, CIFAR-10 Batch 4:  Loss:     1.4147 Validation Accuracy: 0.482422\n",
      "Epoch  3, CIFAR-10 Batch 5:  Loss:     1.5451 Validation Accuracy: 0.478516\n",
      "Epoch  4, CIFAR-10 Batch 1:  Loss:     1.5352 Validation Accuracy: 0.476562\n",
      "Epoch  4, CIFAR-10 Batch 2:  Loss:     1.4588 Validation Accuracy: 0.484375\n",
      "Epoch  4, CIFAR-10 Batch 3:  Loss:     1.0718 Validation Accuracy: 0.501953\n",
      "Epoch  4, CIFAR-10 Batch 4:  Loss:     1.2920 Validation Accuracy: 0.480469\n",
      "Epoch  4, CIFAR-10 Batch 5:  Loss:     1.3960 Validation Accuracy: 0.509766\n",
      "Epoch  5, CIFAR-10 Batch 1:  Loss:     1.4390 Validation Accuracy: 0.501953\n",
      "Epoch  5, CIFAR-10 Batch 2:  Loss:     1.3694 Validation Accuracy: 0.496094\n",
      "Epoch  5, CIFAR-10 Batch 3:  Loss:     1.0383 Validation Accuracy: 0.521484\n",
      "Epoch  5, CIFAR-10 Batch 4:  Loss:     1.2233 Validation Accuracy: 0.525391\n",
      "Epoch  5, CIFAR-10 Batch 5:  Loss:     1.3175 Validation Accuracy: 0.525391\n",
      "Epoch  6, CIFAR-10 Batch 1:  Loss:     1.3817 Validation Accuracy: 0.550781\n",
      "Epoch  6, CIFAR-10 Batch 2:  Loss:     1.2728 Validation Accuracy: 0.519531\n",
      "Epoch  6, CIFAR-10 Batch 3:  Loss:     0.9367 Validation Accuracy: 0.511719\n",
      "Epoch  6, CIFAR-10 Batch 4:  Loss:     1.0858 Validation Accuracy: 0.542969\n",
      "Epoch  6, CIFAR-10 Batch 5:  Loss:     1.1819 Validation Accuracy: 0.558594\n",
      "Epoch  7, CIFAR-10 Batch 1:  Loss:     1.2593 Validation Accuracy: 0.556641\n",
      "Epoch  7, CIFAR-10 Batch 2:  Loss:     1.1921 Validation Accuracy: 0.564453\n",
      "Epoch  7, CIFAR-10 Batch 3:  Loss:     0.8680 Validation Accuracy: 0.552734\n",
      "Epoch  7, CIFAR-10 Batch 4:  Loss:     1.0113 Validation Accuracy: 0.550781\n",
      "Epoch  7, CIFAR-10 Batch 5:  Loss:     1.1215 Validation Accuracy: 0.574219\n",
      "Epoch  8, CIFAR-10 Batch 1:  Loss:     1.1632 Validation Accuracy: 0.580078\n",
      "Epoch  8, CIFAR-10 Batch 2:  Loss:     1.1412 Validation Accuracy: 0.562500\n",
      "Epoch  8, CIFAR-10 Batch 3:  Loss:     0.8459 Validation Accuracy: 0.593750\n",
      "Epoch  8, CIFAR-10 Batch 4:  Loss:     0.9817 Validation Accuracy: 0.580078\n",
      "Epoch  8, CIFAR-10 Batch 5:  Loss:     1.0131 Validation Accuracy: 0.587891\n",
      "Epoch  9, CIFAR-10 Batch 1:  Loss:     1.1011 Validation Accuracy: 0.566406\n",
      "Epoch  9, CIFAR-10 Batch 2:  Loss:     1.1016 Validation Accuracy: 0.593750\n",
      "Epoch  9, CIFAR-10 Batch 3:  Loss:     0.7687 Validation Accuracy: 0.583984\n",
      "Epoch  9, CIFAR-10 Batch 4:  Loss:     0.9361 Validation Accuracy: 0.576172\n",
      "Epoch  9, CIFAR-10 Batch 5:  Loss:     0.9491 Validation Accuracy: 0.615234\n",
      "Epoch 10, CIFAR-10 Batch 1:  Loss:     1.0225 Validation Accuracy: 0.599609\n",
      "Epoch 10, CIFAR-10 Batch 2:  Loss:     1.0205 Validation Accuracy: 0.613281\n",
      "Epoch 10, CIFAR-10 Batch 3:  Loss:     0.7521 Validation Accuracy: 0.611328\n",
      "Epoch 10, CIFAR-10 Batch 4:  Loss:     0.8539 Validation Accuracy: 0.597656\n",
      "Epoch 10, CIFAR-10 Batch 5:  Loss:     0.8847 Validation Accuracy: 0.632812\n",
      "Epoch 11, CIFAR-10 Batch 1:  Loss:     1.0033 Validation Accuracy: 0.611328\n",
      "Epoch 11, CIFAR-10 Batch 2:  Loss:     0.8691 Validation Accuracy: 0.603516\n",
      "Epoch 11, CIFAR-10 Batch 3:  Loss:     0.6468 Validation Accuracy: 0.599609\n",
      "Epoch 11, CIFAR-10 Batch 4:  Loss:     0.8019 Validation Accuracy: 0.585938\n",
      "Epoch 11, CIFAR-10 Batch 5:  Loss:     0.8111 Validation Accuracy: 0.611328\n",
      "Epoch 12, CIFAR-10 Batch 1:  Loss:     0.9653 Validation Accuracy: 0.605469\n",
      "Epoch 12, CIFAR-10 Batch 2:  Loss:     0.8447 Validation Accuracy: 0.607422\n",
      "Epoch 12, CIFAR-10 Batch 3:  Loss:     0.6208 Validation Accuracy: 0.591797\n",
      "Epoch 12, CIFAR-10 Batch 4:  Loss:     0.7668 Validation Accuracy: 0.636719\n",
      "Epoch 12, CIFAR-10 Batch 5:  Loss:     0.7511 Validation Accuracy: 0.605469\n",
      "Epoch 13, CIFAR-10 Batch 1:  Loss:     0.8806 Validation Accuracy: 0.623047\n",
      "Epoch 13, CIFAR-10 Batch 2:  Loss:     0.8121 Validation Accuracy: 0.617188\n",
      "Epoch 13, CIFAR-10 Batch 3:  Loss:     0.5970 Validation Accuracy: 0.601562\n",
      "Epoch 13, CIFAR-10 Batch 4:  Loss:     0.6905 Validation Accuracy: 0.607422\n",
      "Epoch 13, CIFAR-10 Batch 5:  Loss:     0.6901 Validation Accuracy: 0.628906\n",
      "Epoch 14, CIFAR-10 Batch 1:  Loss:     0.8481 Validation Accuracy: 0.648438\n",
      "Epoch 14, CIFAR-10 Batch 2:  Loss:     0.7242 Validation Accuracy: 0.621094\n",
      "Epoch 14, CIFAR-10 Batch 3:  Loss:     0.5256 Validation Accuracy: 0.601562\n",
      "Epoch 14, CIFAR-10 Batch 4:  Loss:     0.7065 Validation Accuracy: 0.642578\n",
      "Epoch 14, CIFAR-10 Batch 5:  Loss:     0.6459 Validation Accuracy: 0.625000\n",
      "Epoch 15, CIFAR-10 Batch 1:  Loss:     0.8850 Validation Accuracy: 0.654297\n",
      "Epoch 15, CIFAR-10 Batch 2:  Loss:     0.6621 Validation Accuracy: 0.617188\n",
      "Epoch 15, CIFAR-10 Batch 3:  Loss:     0.4842 Validation Accuracy: 0.611328\n",
      "Epoch 15, CIFAR-10 Batch 4:  Loss:     0.6577 Validation Accuracy: 0.634766\n",
      "Epoch 15, CIFAR-10 Batch 5:  Loss:     0.5955 Validation Accuracy: 0.634766\n",
      "Epoch 16, CIFAR-10 Batch 1:  Loss:     0.7712 Validation Accuracy: 0.660156\n",
      "Epoch 16, CIFAR-10 Batch 2:  Loss:     0.6679 Validation Accuracy: 0.632812\n",
      "Epoch 16, CIFAR-10 Batch 3:  Loss:     0.4558 Validation Accuracy: 0.626953\n",
      "Epoch 16, CIFAR-10 Batch 4:  Loss:     0.5901 Validation Accuracy: 0.666016\n",
      "Epoch 16, CIFAR-10 Batch 5:  Loss:     0.5764 Validation Accuracy: 0.630859\n",
      "Epoch 17, CIFAR-10 Batch 1:  Loss:     0.7919 Validation Accuracy: 0.652344\n",
      "Epoch 17, CIFAR-10 Batch 2:  Loss:     0.6641 Validation Accuracy: 0.630859\n",
      "Epoch 17, CIFAR-10 Batch 3:  Loss:     0.4844 Validation Accuracy: 0.617188\n",
      "Epoch 17, CIFAR-10 Batch 4:  Loss:     0.5850 Validation Accuracy: 0.666016\n",
      "Epoch 17, CIFAR-10 Batch 5:  Loss:     0.5372 Validation Accuracy: 0.640625\n",
      "Epoch 18, CIFAR-10 Batch 1:  Loss:     0.7541 Validation Accuracy: 0.646484\n",
      "Epoch 18, CIFAR-10 Batch 2:  Loss:     0.5997 Validation Accuracy: 0.634766\n",
      "Epoch 18, CIFAR-10 Batch 3:  Loss:     0.4659 Validation Accuracy: 0.654297\n",
      "Epoch 18, CIFAR-10 Batch 4:  Loss:     0.5393 Validation Accuracy: 0.666016\n",
      "Epoch 18, CIFAR-10 Batch 5:  Loss:     0.4640 Validation Accuracy: 0.650391\n",
      "Epoch 19, CIFAR-10 Batch 1:  Loss:     0.7086 Validation Accuracy: 0.660156\n",
      "Epoch 19, CIFAR-10 Batch 2:  Loss:     0.5531 Validation Accuracy: 0.628906\n",
      "Epoch 19, CIFAR-10 Batch 3:  Loss:     0.4343 Validation Accuracy: 0.650391\n",
      "Epoch 19, CIFAR-10 Batch 4:  Loss:     0.5083 Validation Accuracy: 0.660156\n",
      "Epoch 19, CIFAR-10 Batch 5:  Loss:     0.4709 Validation Accuracy: 0.630859\n",
      "Epoch 20, CIFAR-10 Batch 1:  Loss:     0.6516 Validation Accuracy: 0.656250\n",
      "Epoch 20, CIFAR-10 Batch 2:  Loss:     0.5324 Validation Accuracy: 0.648438\n",
      "Epoch 20, CIFAR-10 Batch 3:  Loss:     0.4035 Validation Accuracy: 0.630859\n",
      "Epoch 20, CIFAR-10 Batch 4:  Loss:     0.5063 Validation Accuracy: 0.658203\n",
      "Epoch 20, CIFAR-10 Batch 5:  Loss:     0.4125 Validation Accuracy: 0.619141\n",
      "Epoch 21, CIFAR-10 Batch 1:  Loss:     0.6074 Validation Accuracy: 0.664062\n",
      "Epoch 21, CIFAR-10 Batch 2:  Loss:     0.5236 Validation Accuracy: 0.662109\n",
      "Epoch 21, CIFAR-10 Batch 3:  Loss:     0.4105 Validation Accuracy: 0.654297\n",
      "Epoch 21, CIFAR-10 Batch 4:  Loss:     0.5098 Validation Accuracy: 0.673828\n",
      "Epoch 21, CIFAR-10 Batch 5:  Loss:     0.4014 Validation Accuracy: 0.658203\n",
      "Epoch 22, CIFAR-10 Batch 1:  Loss:     0.6497 Validation Accuracy: 0.642578\n",
      "Epoch 22, CIFAR-10 Batch 2:  Loss:     0.5078 Validation Accuracy: 0.660156\n",
      "Epoch 22, CIFAR-10 Batch 3:  Loss:     0.3729 Validation Accuracy: 0.669922\n",
      "Epoch 22, CIFAR-10 Batch 4:  Loss:     0.4599 Validation Accuracy: 0.658203\n",
      "Epoch 22, CIFAR-10 Batch 5:  Loss:     0.3971 Validation Accuracy: 0.650391\n",
      "Epoch 23, CIFAR-10 Batch 1:  Loss:     0.5565 Validation Accuracy: 0.671875\n",
      "Epoch 23, CIFAR-10 Batch 2:  Loss:     0.4576 Validation Accuracy: 0.662109\n",
      "Epoch 23, CIFAR-10 Batch 3:  Loss:     0.3592 Validation Accuracy: 0.652344\n",
      "Epoch 23, CIFAR-10 Batch 4:  Loss:     0.4593 Validation Accuracy: 0.669922\n",
      "Epoch 23, CIFAR-10 Batch 5:  Loss:     0.4095 Validation Accuracy: 0.669922\n",
      "Epoch 24, CIFAR-10 Batch 1:  Loss:     0.5964 Validation Accuracy: 0.679688\n",
      "Epoch 24, CIFAR-10 Batch 2:  Loss:     0.4586 Validation Accuracy: 0.626953\n",
      "Epoch 24, CIFAR-10 Batch 3:  Loss:     0.3543 Validation Accuracy: 0.667969\n",
      "Epoch 24, CIFAR-10 Batch 4:  Loss:     0.4887 Validation Accuracy: 0.648438\n",
      "Epoch 24, CIFAR-10 Batch 5:  Loss:     0.3917 Validation Accuracy: 0.654297\n",
      "Epoch 25, CIFAR-10 Batch 1:  Loss:     0.5499 Validation Accuracy: 0.660156\n",
      "Epoch 25, CIFAR-10 Batch 2:  Loss:     0.4544 Validation Accuracy: 0.652344\n",
      "Epoch 25, CIFAR-10 Batch 3:  Loss:     0.3802 Validation Accuracy: 0.664062\n",
      "Epoch 25, CIFAR-10 Batch 4:  Loss:     0.3909 Validation Accuracy: 0.662109\n",
      "Epoch 25, CIFAR-10 Batch 5:  Loss:     0.3731 Validation Accuracy: 0.658203\n",
      "Epoch 26, CIFAR-10 Batch 1:  Loss:     0.4739 Validation Accuracy: 0.675781\n",
      "Epoch 26, CIFAR-10 Batch 2:  Loss:     0.3918 Validation Accuracy: 0.669922\n",
      "Epoch 26, CIFAR-10 Batch 3:  Loss:     0.3113 Validation Accuracy: 0.650391\n",
      "Epoch 26, CIFAR-10 Batch 4:  Loss:     0.4148 Validation Accuracy: 0.669922\n",
      "Epoch 26, CIFAR-10 Batch 5:  Loss:     0.3577 Validation Accuracy: 0.683594\n",
      "Epoch 27, CIFAR-10 Batch 1:  Loss:     0.5436 Validation Accuracy: 0.662109\n",
      "Epoch 27, CIFAR-10 Batch 2:  Loss:     0.4107 Validation Accuracy: 0.654297\n",
      "Epoch 27, CIFAR-10 Batch 3:  Loss:     0.2819 Validation Accuracy: 0.654297\n",
      "Epoch 27, CIFAR-10 Batch 4:  Loss:     0.3557 Validation Accuracy: 0.677734\n",
      "Epoch 27, CIFAR-10 Batch 5:  Loss:     0.3710 Validation Accuracy: 0.683594\n",
      "Epoch 28, CIFAR-10 Batch 1:  Loss:     0.4896 Validation Accuracy: 0.683594\n",
      "Epoch 28, CIFAR-10 Batch 2:  Loss:     0.4034 Validation Accuracy: 0.669922\n",
      "Epoch 28, CIFAR-10 Batch 3:  Loss:     0.2831 Validation Accuracy: 0.664062\n",
      "Epoch 28, CIFAR-10 Batch 4:  Loss:     0.3623 Validation Accuracy: 0.669922\n",
      "Epoch 28, CIFAR-10 Batch 5:  Loss:     0.3030 Validation Accuracy: 0.669922\n",
      "Epoch 29, CIFAR-10 Batch 1:  Loss:     0.4656 Validation Accuracy: 0.667969\n",
      "Epoch 29, CIFAR-10 Batch 2:  Loss:     0.3861 Validation Accuracy: 0.669922\n",
      "Epoch 29, CIFAR-10 Batch 3:  Loss:     0.2947 Validation Accuracy: 0.671875\n",
      "Epoch 29, CIFAR-10 Batch 4:  Loss:     0.3905 Validation Accuracy: 0.691406\n",
      "Epoch 29, CIFAR-10 Batch 5:  Loss:     0.3016 Validation Accuracy: 0.650391\n",
      "Epoch 30, CIFAR-10 Batch 1:  Loss:     0.4470 Validation Accuracy: 0.689453\n",
      "Epoch 30, CIFAR-10 Batch 2:  Loss:     0.3650 Validation Accuracy: 0.679688\n",
      "Epoch 30, CIFAR-10 Batch 3:  Loss:     0.3061 Validation Accuracy: 0.673828\n",
      "Epoch 30, CIFAR-10 Batch 4:  Loss:     0.3623 Validation Accuracy: 0.689453\n",
      "Epoch 30, CIFAR-10 Batch 5:  Loss:     0.2769 Validation Accuracy: 0.673828\n"
     ]
    }
   ],
   "source": [
    "\"\"\"\n",
    "DON'T MODIFY ANYTHING IN THIS CELL\n",
    "\"\"\"\n",
    "save_model_path = './image_classification'\n",
    "\n",
    "print('Training...')\n",
    "with tf.Session() as sess:\n",
    "    # Initializing the variables\n",
    "    sess.run(tf.global_variables_initializer())\n",
    "    \n",
    "    # Training cycle\n",
    "    for epoch in range(epochs):\n",
    "        # Loop over all batches\n",
    "        n_batches = 5\n",
    "        for batch_i in range(1, n_batches + 1):\n",
    "            for batch_features, batch_labels in helper.load_preprocess_training_batch(batch_i, batch_size):\n",
    "                train_neural_network(sess, optimizer, keep_probability, batch_features, batch_labels)\n",
    "            print('Epoch {:>2}, CIFAR-10 Batch {}:  '.format(epoch + 1, batch_i), end='')\n",
    "            print_stats(sess, batch_features, batch_labels, cost, accuracy)\n",
    "            \n",
    "    # Save Model\n",
    "    saver = tf.train.Saver()\n",
    "    save_path = saver.save(sess, save_model_path)"
   ]
  },
  {
   "cell_type": "code",
   "execution_count": 61,
   "metadata": {
    "collapsed": false,
    "deletable": true,
    "editable": true
   },
   "outputs": [
    {
     "name": "stdout",
     "output_type": "stream",
     "text": [
      "Testing Accuracy: 0.6759295886075949\n",
      "\n"
     ]
    },
    {
     "data": {
      "image/png": "[encoded data removed]",
      "text/plain": [
       "<matplotlib.figure.Figure at 0x7fc714706b70>"
      ]
     },
     "metadata": {
      "image/png": {
       "height": 319,
       "width": 355
      }
     },
     "output_type": "display_data"
    }
   ],
   "source": [
    "\"\"\"\n",
    "DON'T MODIFY ANYTHING IN THIS CELL\n",
    "\"\"\"\n",
    "%matplotlib inline\n",
    "%config InlineBackend.figure_format = 'retina'\n",
    "\n",
    "import tensorflow as tf\n",
    "import pickle\n",
    "import helper\n",
    "import random\n",
    "\n",
    "# Set batch size if not already set\n",
    "try:\n",
    "    if batch_size:\n",
    "        pass\n",
    "except NameError:\n",
    "    batch_size = 64\n",
    "\n",
    "save_model_path = './image_classification'\n",
    "n_samples = 4\n",
    "top_n_predictions = 3\n",
    "\n",
    "def test_model():\n",
    "    \"\"\"\n",
    "    Test the saved model against the test dataset\n",
    "    \"\"\"\n",
    "\n",
    "    test_features, test_labels = pickle.load(open('preprocess_training.p', mode='rb'))\n",
    "    loaded_graph = tf.Graph()\n",
    "\n",
    "    with tf.Session(graph=loaded_graph) as sess:\n",
    "        # Load model\n",
    "        loader = tf.train.import_meta_graph(save_model_path + '.meta')\n",
    "        loader.restore(sess, save_model_path)\n",
    "\n",
    "        # Get Tensors from loaded model\n",
    "        loaded_x = loaded_graph.get_tensor_by_name('x:0')\n",
    "        loaded_y = loaded_graph.get_tensor_by_name('y:0')\n",
    "        loaded_keep_prob = loaded_graph.get_tensor_by_name('keep_prob:0')\n",
    "        loaded_logits = loaded_graph.get_tensor_by_name('logits:0')\n",
    "        loaded_acc = loaded_graph.get_tensor_by_name('accuracy:0')\n",
    "        \n",
    "        # Get accuracy in batches for memory limitations\n",
    "        test_batch_acc_total = 0\n",
    "        test_batch_count = 0\n",
    "        \n",
    "        for train_feature_batch, train_label_batch in helper.batch_features_labels(test_features, test_labels, batch_size):\n",
    "            test_batch_acc_total += sess.run(\n",
    "                loaded_acc,\n",
    "                feed_dict={loaded_x: train_feature_batch, loaded_y: train_label_batch, loaded_keep_prob: 1.0})\n",
    "            test_batch_count += 1\n",
    "\n",
    "        print('Testing Accuracy: {}\\n'.format(test_batch_acc_total/test_batch_count))\n",
    "\n",
    "        # Print Random Samples\n",
    "        random_test_features, random_test_labels = tuple(zip(*random.sample(list(zip(test_features, test_labels)), n_samples)))\n",
    "        random_test_predictions = sess.run(\n",
    "            tf.nn.top_k(tf.nn.softmax(loaded_logits), top_n_predictions),\n",
    "            feed_dict={loaded_x: random_test_features, loaded_y: random_test_labels, loaded_keep_prob: 1.0})\n",
    "        helper.display_image_predictions(random_test_features, random_test_labels, random_test_predictions)\n",
    "\n",
    "\n",
    "test_model()"
   ]
  },
  {
   "cell_type": "markdown",
   "metadata": {
    "deletable": true,
    "editable": true
   },
   "source": [
    "## Why 50-70% Accuracy?\n",
    "You might be wondering why you can't get an accuracy any higher. First things first, 50% isn't bad for a simple CNN.  Pure guessing would get you 10% accuracy. However, you might notice people are getting scores [well above 70%](http://rodrigob.github.io/are_we_there_yet/build/classification_datasets_results.html#43494641522d3130).  That's because we haven't taught you all there is to know about neural networks. We still need to cover a few more techniques.\n",
    "## Submitting This Project\n",
    "When submitting this project, make sure to run all the cells before saving the notebook.  Save the notebook file as \"dlnd_image_classification.ipynb\" and save it as a HTML file under \"File\" -> \"Download as\".  Include the \"helper.py\" and \"problem_unittests.py\" files in your submission."
   ]
  },
  {
   "cell_type": "code",
   "execution_count": null,
   "metadata": {
    "collapsed": true,
    "deletable": true,
    "editable": true
   },
   "outputs": [],
   "source": []
  },
  {
   "cell_type": "code",
   "execution_count": null,
   "metadata": {
    "collapsed": true,
    "deletable": true,
    "editable": true
   },
   "outputs": [],
   "source": []
  }
 ],
 "metadata": {
  "kernelspec": {
   "display_name": "Python 3",
   "language": "python",
   "name": "python3"
  },
  "language_info": {
   "codemirror_mode": {
    "name": "ipython",
    "version": 3
   },
   "file_extension": ".py",
   "mimetype": "text/x-python",
   "name": "python",
   "nbconvert_exporter": "python",
   "pygments_lexer": "ipython3",
   "version": "3.5.2"
  },
  "widgets": {
   "state": {},
   "version": "1.1.2"
  }
 },
 "nbformat": 4,
 "nbformat_minor": 0
}
